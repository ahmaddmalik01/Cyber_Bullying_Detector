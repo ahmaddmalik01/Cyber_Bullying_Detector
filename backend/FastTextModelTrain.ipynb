{
 "cells": [
  {
   "cell_type": "code",
   "execution_count": 4,
   "metadata": {},
   "outputs": [
    {
     "name": "stdout",
     "output_type": "stream",
     "text": [
      "              precision    recall  f1-score   support\n",
      "\n",
      "Non-Bullying       0.79      0.88      0.83      2361\n",
      "    Bullying       0.79      0.65      0.72      1623\n",
      "\n",
      "    accuracy                           0.79      3984\n",
      "   macro avg       0.79      0.77      0.77      3984\n",
      "weighted avg       0.79      0.79      0.79      3984\n",
      "\n",
      "Skipped 8 lines due to formatting errors.\n"
     ]
    }
   ],
   "source": [
    "import pandas as pd\n",
    "import numpy as np\n",
    "from sklearn.model_selection import train_test_split\n",
    "from sklearn.metrics import classification_report\n",
    "import fasttext\n",
    "import re\n",
    "\n",
    "# function to clean text\n",
    "def clean_text(text):\n",
    "    text = str(text)  # Convert to string to handle NaN values\n",
    "    text = text.lower()\n",
    "    text = re.sub(r'http\\S+', '', text)\n",
    "    text = re.sub(r'@\\w+', '', text)\n",
    "    return text\n",
    "\n",
    "# Load and combine datasets\n",
    "df1 = pd.read_csv('data.csv', encoding='ISO-8859-1')\n",
    "df2 = pd.read_csv('CyberBullying Comments Dataset.csv', encoding='ISO-8859-1')\n",
    "df_combined = pd.concat([df1, df2], ignore_index=True)\n",
    "df_combined['text_message'] = df_combined['text_message'].fillna('')  # Handle missing values\n",
    "df_combined['text_message'] = df_combined['text_message'].apply(clean_text)\n",
    "\n",
    "# Split combined dataset into train and test sets\n",
    "df_train, df_test = train_test_split(df_combined[['label_bullying', 'text_message']], test_size=0.20, random_state=42)\n",
    "\n",
    "# Save train and test sets in fastText format\n",
    "def save_in_fastText_format(filename, data_frame):\n",
    "    with open(filename + \".txt\", \"w\", encoding=\"utf-8\") as f:\n",
    "        for text, label in zip(data_frame.text_message, data_frame.label_bullying):\n",
    "            if not pd.isnull(label):\n",
    "                label_str = str(int(label))\n",
    "                f.writelines(\"__label__\" + label_str + \" \" + str(text) + \"\\n\")\n",
    "\n",
    "save_in_fastText_format(\"train\", df_train)\n",
    "save_in_fastText_format(\"test\", df_test)\n",
    "\n",
    "# Retrain fastText model\n",
    "model = fasttext.train_supervised('train.txt')\n",
    "\n",
    "# Save the trained model\n",
    "model.save_model('classifier_updated.bin')\n",
    "\n",
    "# Evaluate model\n",
    "def evaluate_model(model, test_file):\n",
    "    y_true = []\n",
    "    texts = []\n",
    "    errors = 0  # To count the number of errors\n",
    "\n",
    "    with open(test_file, 'r', encoding='utf-8') as f:\n",
    "        for line in f:\n",
    "            parts = line.split(' ', 1)\n",
    "            if len(parts) != 2:\n",
    "                errors += 1\n",
    "                continue  # Skip lines with incorrect format\n",
    "\n",
    "            label, text = parts\n",
    "            try:\n",
    "                y_true.append(int(label.replace('__label__', '')))\n",
    "                texts.append(text.strip())\n",
    "            except ValueError:\n",
    "                errors += 1\n",
    "                continue  # Skip lines where the label is not an integer\n",
    "\n",
    "    y_pred = [int(model.predict(text)[0][0].replace('__label__', '')) for text in texts]\n",
    "    print(classification_report(y_true, y_pred, target_names=['Non-Bullying', 'Bullying']))\n",
    "    print(f\"Skipped {errors} lines due to formatting errors.\")\n",
    "\n",
    "# Evaluate the model using the test file\n",
    "evaluate_model(model, 'test.txt')\n"
   ]
  },
  {
   "cell_type": "code",
   "execution_count": 1,
   "metadata": {},
   "outputs": [],
   "source": [
    "# import pandas as pd\n",
    "# from sklearn.model_selection import train_test_split\n",
    "# from sklearn.metrics import confusion_matrix\n",
    "# import numpy as np\n",
    "# import fasttext\n",
    "# import codecs \n"
   ]
  },
  {
   "cell_type": "code",
   "execution_count": 2,
   "metadata": {},
   "outputs": [],
   "source": [
    "# df = pd.read_csv('twitter_parsed_dataset.csv')"
   ]
  },
  {
   "cell_type": "code",
   "execution_count": 3,
   "metadata": {},
   "outputs": [
    {
     "data": {
      "text/plain": [
       "(16851, 2)"
      ]
     },
     "execution_count": 3,
     "metadata": {},
     "output_type": "execute_result"
    }
   ],
   "source": [
    "# df.shape"
   ]
  },
  {
   "cell_type": "code",
   "execution_count": 4,
   "metadata": {},
   "outputs": [
    {
     "data": {
      "text/plain": [
       "label_bullying\n",
       "0.0    11501\n",
       "1.0     5347\n",
       "Name: count, dtype: int64"
      ]
     },
     "execution_count": 4,
     "metadata": {},
     "output_type": "execute_result"
    }
   ],
   "source": [
    "# df.label_bullying.value_counts()"
   ]
  },
  {
   "cell_type": "code",
   "execution_count": 5,
   "metadata": {
    "scrolled": true
   },
   "outputs": [
    {
     "data": {
      "text/html": [
       "<div>\n",
       "<style scoped>\n",
       "    .dataframe tbody tr th:only-of-type {\n",
       "        vertical-align: middle;\n",
       "    }\n",
       "\n",
       "    .dataframe tbody tr th {\n",
       "        vertical-align: top;\n",
       "    }\n",
       "\n",
       "    .dataframe thead th {\n",
       "        text-align: right;\n",
       "    }\n",
       "</style>\n",
       "<table border=\"1\" class=\"dataframe\">\n",
       "  <thead>\n",
       "    <tr style=\"text-align: right;\">\n",
       "      <th></th>\n",
       "      <th>text_message</th>\n",
       "      <th>label_bullying</th>\n",
       "    </tr>\n",
       "  </thead>\n",
       "  <tbody>\n",
       "    <tr>\n",
       "      <th>0</th>\n",
       "      <td>@halalflaws @biebervalue @greenlinerzjm I read...</td>\n",
       "      <td>0.0</td>\n",
       "    </tr>\n",
       "    <tr>\n",
       "      <th>1</th>\n",
       "      <td>@ShreyaBafna3 Now you idiots claim that people...</td>\n",
       "      <td>0.0</td>\n",
       "    </tr>\n",
       "    <tr>\n",
       "      <th>2</th>\n",
       "      <td>RT @Mooseoftorment Call me sexist, but when I ...</td>\n",
       "      <td>1.0</td>\n",
       "    </tr>\n",
       "    <tr>\n",
       "      <th>3</th>\n",
       "      <td>@g0ssipsquirrelx Wrong, ISIS follows the examp...</td>\n",
       "      <td>1.0</td>\n",
       "    </tr>\n",
       "    <tr>\n",
       "      <th>4</th>\n",
       "      <td>#mkr No No No No No No</td>\n",
       "      <td>0.0</td>\n",
       "    </tr>\n",
       "  </tbody>\n",
       "</table>\n",
       "</div>"
      ],
      "text/plain": [
       "                                        text_message  label_bullying\n",
       "0  @halalflaws @biebervalue @greenlinerzjm I read...             0.0\n",
       "1  @ShreyaBafna3 Now you idiots claim that people...             0.0\n",
       "2  RT @Mooseoftorment Call me sexist, but when I ...             1.0\n",
       "3  @g0ssipsquirrelx Wrong, ISIS follows the examp...             1.0\n",
       "4                             #mkr No No No No No No             0.0"
      ]
     },
     "execution_count": 5,
     "metadata": {},
     "output_type": "execute_result"
    }
   ],
   "source": [
    "# df.head()"
   ]
  },
  {
   "cell_type": "code",
   "execution_count": 6,
   "metadata": {},
   "outputs": [],
   "source": [
    "# df_train, df_test = train_test_split(df[['label_bullying', 'text_message']], test_size=0.20, random_state=42)"
   ]
  },
  {
   "cell_type": "code",
   "execution_count": 7,
   "metadata": {},
   "outputs": [],
   "source": [
    "# def save_in_fastText_format(filename, data_frame):\n",
    "    # with open(filename + \".txt\", \"w\", encoding=\"utf-8\") as f:\n",
    "        # for text, label in zip(data_frame.text_message, data_frame.label_bullying):\n",
    "            # if not pd.isnull(label):\n",
    "                # label_str = str(int(label))\n",
    "                # f.writelines(\"__label__\" + label_str + \" \" + str(text) + \"\\n\")\n",
    "\n"
   ]
  },
  {
   "cell_type": "code",
   "execution_count": 8,
   "metadata": {},
   "outputs": [],
   "source": [
    "# save_in_fastText_format(\"train\", df_train)\n",
    "# save_in_fastText_format(\"test\", df_test)"
   ]
  },
  {
   "cell_type": "code",
   "execution_count": 9,
   "metadata": {},
   "outputs": [],
   "source": [
    "# model = fasttext.train_supervised('train.txt')"
   ]
  },
  {
   "cell_type": "code",
   "execution_count": 10,
   "metadata": {},
   "outputs": [
    {
     "name": "stdout",
     "output_type": "stream",
     "text": [
      "['__label__0', '__label__1']\n"
     ]
    }
   ],
   "source": [
    "# print(model.labels)"
   ]
  },
  {
   "cell_type": "code",
   "execution_count": 11,
   "metadata": {},
   "outputs": [],
   "source": [
    "# def print_results(N, p, r):\n",
    "    # print(\"Precision: {:.3f}\".format(p))\n",
    "    # print(\"Recall: {:.3f}\".format(r))\n",
    "    # return p"
   ]
  },
  {
   "cell_type": "code",
   "execution_count": 12,
   "metadata": {},
   "outputs": [
    {
     "name": "stdout",
     "output_type": "stream",
     "text": [
      "Precision: 0.847\n",
      "Recall: 0.847\n"
     ]
    },
    {
     "data": {
      "text/plain": [
       "0.8468842729970326"
      ]
     },
     "execution_count": 12,
     "metadata": {},
     "output_type": "execute_result"
    }
   ],
   "source": [
    "# print_results(*model.test('test.txt'))"
   ]
  },
  {
   "cell_type": "code",
   "execution_count": 13,
   "metadata": {},
   "outputs": [
    {
     "data": {
      "text/plain": [
       "([['__label__0']], [array([0.97929204], dtype=float32)])"
      ]
     },
     "execution_count": 13,
     "metadata": {},
     "output_type": "execute_result"
    }
   ],
   "source": [
    "# model.predict(['you look good'])"
   ]
  }
 ],
 "metadata": {
  "kernelspec": {
   "display_name": "Python 3 (ipykernel)",
   "language": "python",
   "name": "python3"
  },
  "language_info": {
   "codemirror_mode": {
    "name": "ipython",
    "version": 3
   },
   "file_extension": ".py",
   "mimetype": "text/x-python",
   "name": "python",
   "nbconvert_exporter": "python",
   "pygments_lexer": "ipython3",
   "version": "3.12.3"
  }
 },
 "nbformat": 4,
 "nbformat_minor": 2
}
